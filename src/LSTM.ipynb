{
 "cells": [
  {
   "cell_type": "code",
   "execution_count": null,
   "id": "7039a91c",
   "metadata": {},
   "outputs": [],
   "source": [
    "print('whats good')"
   ]
  }
 ],
 "metadata": {
  "language_info": {
   "name": "python"
  }
 },
 "nbformat": 4,
 "nbformat_minor": 5
}
